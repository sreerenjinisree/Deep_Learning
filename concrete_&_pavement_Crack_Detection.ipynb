{
  "nbformat": 4,
  "nbformat_minor": 0,
  "metadata": {
    "colab": {
      "provenance": [],
      "gpuType": "T4"
    },
    "kernelspec": {
      "name": "python3",
      "display_name": "Python 3"
    },
    "language_info": {
      "name": "python"
    },
    "accelerator": "GPU"
  },
  "cells": [
    {
      "cell_type": "markdown",
      "source": [
        "**Checking for the current working directory and copying the path of file**\n"
      ],
      "metadata": {
        "id": "NG31f5K_8kWO"
      }
    },
    {
      "cell_type": "code",
      "source": [
        "!pwd"
      ],
      "metadata": {
        "colab": {
          "base_uri": "https://localhost:8080/"
        },
        "id": "ZGdOrtS4hE3F",
        "outputId": "6b5b7bce-9a1b-40d9-81dc-d66a97edef00"
      },
      "execution_count": null,
      "outputs": [
        {
          "output_type": "stream",
          "name": "stdout",
          "text": [
            "/content\n"
          ]
        }
      ]
    },
    {
      "cell_type": "code",
      "source": [
        "!cp '/content/drive/MyDrive/project_dl/pavement.zip' ./"
      ],
      "metadata": {
        "id": "k_8TOhEZhWzr"
      },
      "execution_count": null,
      "outputs": []
    },
    {
      "cell_type": "markdown",
      "source": [
        "**Unzip the dataset**"
      ],
      "metadata": {
        "id": "mxZ2gTkv9CeD"
      }
    },
    {
      "cell_type": "code",
      "source": [
        "!unzip pavement.zip"
      ],
      "metadata": {
        "colab": {
          "base_uri": "https://localhost:8080/"
        },
        "id": "NknXKpoah5Ib",
        "outputId": "a2e949d0-78fa-4f8b-da1f-1a7adcfa67ef"
      },
      "execution_count": null,
      "outputs": [
        {
          "metadata": {
            "tags": null
          },
          "name": "stdout",
          "output_type": "stream",
          "text": [
            "Archive:  pavement.zip\n",
            "replace Negative/00001.jpg? [y]es, [n]o, [A]ll, [N]one, [r]ename: "
          ]
        }
      ]
    },
    {
      "cell_type": "code",
      "source": [
        "# Moving the unzip files to a new folder"
      ],
      "metadata": {
        "id": "HkG7wPUN9WEr"
      },
      "execution_count": null,
      "outputs": []
    },
    {
      "cell_type": "code",
      "source": [
        "!mv Positive '/content/drive/MyDrive/unzip_pavement'\n",
        "!mv Negative '/content/drive/MyDrive/unzip_pavement'"
      ],
      "metadata": {
        "id": "NHZLbdB8ifcQ"
      },
      "execution_count": null,
      "outputs": []
    },
    {
      "cell_type": "code",
      "source": [
        "import numpy as np\n",
        "import matplotlib.pyplot as plt\n",
        "import tensorflow as tf\n",
        "from tensorflow.keras.preprocessing.image import ImageDataGenerator\n",
        "from tensorflow.keras.models import Sequential\n",
        "from tensorflow.keras.layers import Conv2D,MaxPool2D,Flatten,Dense"
      ],
      "metadata": {
        "id": "-cgcfX4qhq7Z"
      },
      "execution_count": null,
      "outputs": []
    },
    {
      "cell_type": "code",
      "source": [
        "dataset_path='/content/drive/MyDrive/unzip_pavement'"
      ],
      "metadata": {
        "id": "z0UD2xMGhv5k"
      },
      "execution_count": null,
      "outputs": []
    },
    {
      "cell_type": "code",
      "source": [
        "batch_size=64\n",
        "image_size=(150,150)\n",
        "epochs=10"
      ],
      "metadata": {
        "id": "vvPXld3jhqw8"
      },
      "execution_count": null,
      "outputs": []
    },
    {
      "cell_type": "code",
      "source": [
        "train_datagen=ImageDataGenerator(\n",
        "    rescale=1./255,\n",
        "    validation_split=0.2\n",
        ")"
      ],
      "metadata": {
        "id": "CeQzYcdKhqin"
      },
      "execution_count": null,
      "outputs": []
    },
    {
      "cell_type": "code",
      "source": [
        "training_generator=train_datagen.flow_from_directory(\n",
        "    dataset_path,\n",
        "    target_size=image_size,\n",
        "    batch_size=batch_size,\n",
        "    class_mode='binary',\n",
        "    subset='training'\n",
        ")"
      ],
      "metadata": {
        "colab": {
          "base_uri": "https://localhost:8080/"
        },
        "id": "bbGXNaqfquTg",
        "outputId": "9005d064-82ac-4c0d-a9c8-0744906ccf9d"
      },
      "execution_count": null,
      "outputs": [
        {
          "output_type": "stream",
          "name": "stdout",
          "text": [
            "Found 24000 images belonging to 2 classes.\n"
          ]
        }
      ]
    },
    {
      "cell_type": "code",
      "source": [
        "validation_generator=train_datagen.flow_from_directory(\n",
        "    dataset_path,\n",
        "    target_size=image_size,\n",
        "    batch_size=batch_size,\n",
        "    class_mode='binary',\n",
        "    subset='validation'\n",
        ")"
      ],
      "metadata": {
        "colab": {
          "base_uri": "https://localhost:8080/"
        },
        "id": "UZ76P_bIqxVf",
        "outputId": "4dcf4468-6573-45a5-d276-c3ff2a05c78b"
      },
      "execution_count": null,
      "outputs": [
        {
          "output_type": "stream",
          "name": "stdout",
          "text": [
            "Found 6000 images belonging to 2 classes.\n"
          ]
        }
      ]
    },
    {
      "cell_type": "code",
      "source": [
        "model=Sequential()\n",
        "\n",
        "model.add(Conv2D(32,(3,3),activation='relu',input_shape=(image_size[0],image_size[1],3)))\n",
        "\n",
        "model.add(MaxPool2D(2,2))\n",
        "\n",
        "model.add(Flatten())\n",
        "model.add(Dense(128,activation='relu'))\n",
        "model.add(Dense(1,activation='sigmoid'))"
      ],
      "metadata": {
        "id": "sSUFXNB7q28o"
      },
      "execution_count": null,
      "outputs": []
    },
    {
      "cell_type": "code",
      "source": [
        "model.compile(loss='binary_crossentropy',optimizer='adam',metrics=['accuracy'])"
      ],
      "metadata": {
        "id": "ae0dToBPq8V2"
      },
      "execution_count": null,
      "outputs": []
    },
    {
      "cell_type": "code",
      "source": [
        "history=model.fit(\n",
        "    training_generator,\n",
        "    steps_per_epoch=training_generator.samples//batch_size,\n",
        "    validation_data=validation_generator,\n",
        "    validation_steps=validation_generator.samples//batch_size,\n",
        "    epochs=epochs\n",
        ")"
      ],
      "metadata": {
        "colab": {
          "base_uri": "https://localhost:8080/"
        },
        "id": "8E64ayHmrALE",
        "outputId": "6de1e799-ebd6-44a6-ac50-b84d5729ae9d"
      },
      "execution_count": null,
      "outputs": [
        {
          "output_type": "stream",
          "name": "stdout",
          "text": [
            "Epoch 1/10\n",
            "375/375 [==============================] - 316s 838ms/step - loss: 0.5412 - accuracy: 0.8232 - val_loss: 0.3527 - val_accuracy: 0.8280\n",
            "Epoch 2/10\n",
            "375/375 [==============================] - 133s 355ms/step - loss: 0.2200 - accuracy: 0.9156 - val_loss: 0.2248 - val_accuracy: 0.8936\n",
            "Epoch 3/10\n",
            "375/375 [==============================] - 136s 362ms/step - loss: 0.1518 - accuracy: 0.9408 - val_loss: 0.1454 - val_accuracy: 0.9303\n",
            "Epoch 4/10\n",
            "375/375 [==============================] - 114s 303ms/step - loss: 0.1180 - accuracy: 0.9559 - val_loss: 0.1145 - val_accuracy: 0.9609\n",
            "Epoch 5/10\n",
            "375/375 [==============================] - 134s 356ms/step - loss: 0.1118 - accuracy: 0.9565 - val_loss: 0.1635 - val_accuracy: 0.9266\n",
            "Epoch 6/10\n",
            "375/375 [==============================] - 116s 309ms/step - loss: 0.0929 - accuracy: 0.9630 - val_loss: 0.1667 - val_accuracy: 0.9350\n",
            "Epoch 7/10\n",
            "375/375 [==============================] - 135s 359ms/step - loss: 0.0870 - accuracy: 0.9665 - val_loss: 0.2108 - val_accuracy: 0.9162\n",
            "Epoch 8/10\n",
            "375/375 [==============================] - 135s 359ms/step - loss: 0.0860 - accuracy: 0.9660 - val_loss: 0.2443 - val_accuracy: 0.9147\n",
            "Epoch 9/10\n",
            "375/375 [==============================] - 115s 306ms/step - loss: 0.0703 - accuracy: 0.9716 - val_loss: 0.0838 - val_accuracy: 0.9736\n",
            "Epoch 10/10\n",
            "375/375 [==============================] - 134s 358ms/step - loss: 0.0646 - accuracy: 0.9754 - val_loss: 0.3167 - val_accuracy: 0.9126\n"
          ]
        }
      ]
    },
    {
      "cell_type": "code",
      "source": [
        "plt.plot(history.history['accuracy'])\n",
        "plt.plot(history.history['val_accuracy'])\n",
        "plt.ylabel('accuracy')\n",
        "plt.xlabel('epoch')\n",
        "plt.title('Model Accuracy')\n",
        "plt.legend(['train','val'],loc='upper left')\n",
        "plt.show()"
      ],
      "metadata": {
        "colab": {
          "base_uri": "https://localhost:8080/",
          "height": 472
        },
        "id": "OhHWfqKg-Wyj",
        "outputId": "72f8905c-9563-462e-f1c7-20a0d98d80f2"
      },
      "execution_count": null,
      "outputs": [
        {
          "output_type": "display_data",
          "data": {
            "text/plain": [
              "<Figure size 640x480 with 1 Axes>"
            ],
            "image/png": "[encoded data removed]"
          },
          "metadata": {}
        }
      ]
    },
    {
      "cell_type": "code",
      "source": [
        "model.save('Pavement_crack_detection.h5')"
      ],
      "metadata": {
        "colab": {
          "base_uri": "https://localhost:8080/"
        },
        "id": "KRXwb6T6BaIk",
        "outputId": "0bd63411-b61e-4cd5-eb95-cde352eecc47"
      },
      "execution_count": null,
      "outputs": [
        {
          "output_type": "stream",
          "name": "stderr",
          "text": [
            "/usr/local/lib/python3.10/dist-packages/keras/src/engine/training.py:3103: UserWarning: You are saving your model as an HDF5 file via `model.save()`. This file format is considered legacy. We recommend using instead the native Keras format, e.g. `model.save('my_model.keras')`.\n",
            "  saving_api.save_model(\n"
          ]
        }
      ]
    },
    {
      "cell_type": "markdown",
      "source": [
        "**Transferred the model to another destination**"
      ],
      "metadata": {
        "id": "yiCW3ZWzFFIl"
      }
    },
    {
      "cell_type": "code",
      "source": [
        "!cp /content/Pavement_crack_detection.h5 /content/drive/MyDrive/Deep_Learning"
      ],
      "metadata": {
        "id": "PbMC99n9Bsyy"
      },
      "execution_count": null,
      "outputs": []
    },
    {
      "cell_type": "code",
      "source": [
        "!cp /content/drive/MyDrive/Deep_Learning/Pavement_crack_detection.h5 ./"
      ],
      "metadata": {
        "id": "wzyC1Rk_EkAJ"
      },
      "execution_count": null,
      "outputs": []
    },
    {
      "cell_type": "code",
      "source": [
        "from tensorflow.keras.preprocessing import image\n",
        "#Loading Model\n",
        "model1=tf.keras.models.load_model('Pavement_crack_detection.h5')\n",
        "#Loading a new image for detection\n",
        "img=image.load_img('/content/crack_img.jpeg',target_size=(150,150))\n",
        "\n",
        "#Preprocessing for new image prediction\n",
        "#1. Converting to Array\n",
        "img=image.img_to_array(img)\n",
        "#2.Expanding dimension to match with the model( converting to 4D )\n",
        "img=np.expand_dims(img,axis=0)\n",
        "#3. Normalising\n",
        "img/=255.0\n",
        "\n",
        "prediction=model.predict(img)\n",
        "if prediction>0.5:\n",
        "  print(\"Cracked Pavement\")\n",
        "else:\n",
        "  print(\"Not Cracked\")\n",
        "print(prediction)\n"
      ],
      "metadata": {
        "colab": {
          "base_uri": "https://localhost:8080/"
        },
        "id": "pAXOE0ikDP5U",
        "outputId": "7c65e0f3-b9fc-46ef-aff8-21a3abbe7249"
      },
      "execution_count": null,
      "outputs": [
        {
          "output_type": "stream",
          "name": "stdout",
          "text": [
            "1/1 [==============================] - 0s 208ms/step\n",
            "[[0.9999999]]\n"
          ]
        }
      ]
    }
  ]
}